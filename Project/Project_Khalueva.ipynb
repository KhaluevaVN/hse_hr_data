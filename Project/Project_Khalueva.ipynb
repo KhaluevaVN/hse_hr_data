{
 "cells": [
  {
   "cell_type": "markdown",
   "metadata": {},
   "source": [
    "# Исследовательский проект\n",
    "## Халуева Виктория МЧР201\n",
    "Predict who will move to a new job\n",
    "\n",
    "Датасет: \n",
    "https://www.kaggle.com/arashnic/hr-analytics-job-change-of-data-scientists\n",
    "\n",
    "Порядок повествования: \n",
    "* Постановка проблемы\n",
    "* Импорт данных, разведочный анализ данных\n",
    "* Предварительная оценка возможных фич\n",
    "* Подготовка пайплайна данных, инжиниринг фич\n",
    "* Подготовка и обучение модели, сравнение разных реализаций\n",
    "* Выводы"
   ]
  },
  {
   "cell_type": "markdown",
   "metadata": {
    "_uuid": "ad291e7e0207ec13d76b1f7ce52018fe68c81f35"
   },
   "source": [
    "# Прогнозирование смены места работы кандидата после прохождения курсов компании"
   ]
  },
  {
   "cell_type": "markdown",
   "metadata": {
    "_uuid": "c5d91e1b1b141e164b2c15e3215b1ef75ead72d1",
    "toc": true
   },
   "source": [
    "**План**\n",
    "\n",
    "1. Постановка проблемы\n",
    "<br>1.1 Обзор проблемы<br>\n",
    "1.2 Постановка задачи<br>\n",
    "\n",
    "2. Анализ данных\n",
    "<br>2.1 Импорт данных<br>\n",
    "2.2 Разведочный анализ данных<br>\n",
    "2.3 Предварительная оценка возможных фич<br>\n",
    "\n",
    "3. Подготовка пайплайна данных, инжиниринг фич\n",
    "<br>3.1 Label Encoding<br>\n",
    "3.2 Корреляция<br>\n",
    "3.3 Скалирование<br>\n",
    "\n",
    "4. Подготовка и обучение модели, сравнение разных реализаций\n",
    "<br>4.1 Сравнение моделей<br>\n",
    "4.2 Логистическая регрессия<br>\n",
    "\n",
    "Выводы"
   ]
  },
  {
   "cell_type": "markdown",
   "metadata": {
    "_uuid": "f5af9083834ec777823a1790ca6697faa7546de5"
   },
   "source": [
    "## 1. Постановка проблемы"
   ]
  },
  {
   "cell_type": "markdown",
   "metadata": {
    "_uuid": "211137f297123106157e3b66f4ab07ac0ba6af1c"
   },
   "source": [
    "### Обзор проблемы"
   ]
  },
  {
   "cell_type": "markdown",
   "metadata": {
    "_uuid": "64561b3bd4a394fc112693ef1cb9b4a9932c7d7b"
   },
   "source": [
    "Компания, активно работающая в области больших данных и науки о данных, хочет нанять специалистов по обработке данных из числа людей, успешно прошедших некоторые курсы, проводимые компанией. Многие люди записываются на их обучение. Компания хочет знать, кто из этих кандидатов действительно хочет работать в компании после обучения или ищет новую работу.\n",
    "\n",
    "Цель любой компании - повышение прибыли. На повышение прибыли влиет множество факторов, в том числе и производительность и компетентность персонала компании. Таким образом одна из задач компании - получить как можно больше успешных кандидатов. Однако встаёт вопрос как сделать это эффективно? Какие факторы влияют на то, что кандидат у нас останется? Чем быстрее закрыта вакансия, тем меньше потрачено ресурсов компании: денежных и временых. Кандидат проходит собеседование, тесты, его готовы принять. Но при этом это не значит, что сам кандидат готов принять предложение компании.\n",
    "\n",
    "В данном исследовании мы разберём проблему смены места работы кандидата после прохождения курсов компании."
   ]
  },
  {
   "cell_type": "markdown",
   "metadata": {
    "_uuid": "ecb4a842621aa2ef8b35592e1afddab16f3da4ee"
   },
   "source": [
    "### Постановка задачи"
   ]
  },
  {
   "cell_type": "markdown",
   "metadata": {
    "_uuid": "855b0f2c4b1637701b89c90bdfd37d633f1bdef4"
   },
   "source": [
    "Задачи исследования: <br>\n",
    "> ** Определить ключевые признаки смены места работы кандидата после прохождения курсов компании. <br>\n",
    "Разработать предсказывающую модель смены места работы кандидата после прохождения курсов компании. ** <br>"
   ]
  },
  {
   "cell_type": "markdown",
   "metadata": {
    "_uuid": "96c0abc6e014dfd295c28e9d313ebcab9603c3e4"
   },
   "source": [
    "![title](https://peopleforce.io/wp-content/uploads/2020/09/9-voprosov-kandidatu-_-PeopleForce.png)"
   ]
  },
  {
   "cell_type": "markdown",
   "metadata": {
    "_uuid": "1219b77f4e057d44fef54ae60973c80f6b175cb8"
   },
   "source": [
    "## 2. Анализ данных"
   ]
  },
  {
   "cell_type": "markdown",
   "metadata": {
    "_uuid": "37772f84746ec72fd06f0d42c715feee841bf006"
   },
   "source": [
    "В этом исследовании набор данных был получен из [HR Analytics: Job Change of Data Scientists](https://www.kaggle.com/arashnic/hr-analytics-job-change-of-data-scientists), который содержит данные о 19158 кандидатах с различной информацией. Я буду использовать этот набор данных, чтобы предсказать, сменят ли кандидаты работу, принимая во внимание факторы оттока.\n",
    "\n",
    "**Target: **0 – Not looking for job change, 1 – Looking for a job change"
   ]
  },
  {
   "cell_type": "markdown",
   "metadata": {},
   "source": [
    "### Импорт данных"
   ]
  },
  {
   "cell_type": "code",
   "execution_count": 1,
   "metadata": {},
   "outputs": [],
   "source": [
    "import numpy as np\n",
    "import pandas as pd\n",
    "import matplotlib.pyplot as plt\n",
    "import seaborn as sns\n",
    "\n",
    "from sklearn import feature_selection\n",
    "from sklearn import model_selection\n",
    "from sklearn import metrics\n",
    "\n",
    "from sklearn.preprocessing import LabelEncoder\n",
    "from sklearn.preprocessing import StandardScaler\n",
    "from sklearn.model_selection import train_test_split\n",
    "from sklearn.model_selection import GridSearchCV\n",
    "from sklearn import svm, tree, linear_model, neighbors\n",
    "from sklearn import naive_bayes, ensemble, discriminant_analysis, gaussian_process\n",
    "from sklearn.linear_model import LogisticRegression\n",
    "from sklearn.tree import DecisionTreeClassifier\n",
    "from sklearn.neighbors import KNeighborsClassifier\n",
    "from sklearn.discriminant_analysis import LinearDiscriminantAnalysis\n",
    "from sklearn.naive_bayes import GaussianNB\n",
    "from sklearn.svm import SVC\n",
    "from sklearn.neighbors import KNeighborsClassifier\n",
    "\n",
    "from sklearn.ensemble import RandomForestClassifier"
   ]
  },
  {
   "cell_type": "code",
   "execution_count": 2,
   "metadata": {},
   "outputs": [],
   "source": [
    "df_hr = pd.read_csv('aug_train.csv')"
   ]
  },
  {
   "cell_type": "code",
   "execution_count": 3,
   "metadata": {},
   "outputs": [
    {
     "data": {
      "text/html": [
       "<div>\n",
       "<style scoped>\n",
       "    .dataframe tbody tr th:only-of-type {\n",
       "        vertical-align: middle;\n",
       "    }\n",
       "\n",
       "    .dataframe tbody tr th {\n",
       "        vertical-align: top;\n",
       "    }\n",
       "\n",
       "    .dataframe thead th {\n",
       "        text-align: right;\n",
       "    }\n",
       "</style>\n",
       "<table border=\"1\" class=\"dataframe\">\n",
       "  <thead>\n",
       "    <tr style=\"text-align: right;\">\n",
       "      <th></th>\n",
       "      <th>enrollee_id</th>\n",
       "      <th>city</th>\n",
       "      <th>city_development_index</th>\n",
       "      <th>gender</th>\n",
       "      <th>relevent_experience</th>\n",
       "      <th>enrolled_university</th>\n",
       "      <th>education_level</th>\n",
       "      <th>major_discipline</th>\n",
       "      <th>experience</th>\n",
       "      <th>company_size</th>\n",
       "      <th>company_type</th>\n",
       "      <th>last_new_job</th>\n",
       "      <th>training_hours</th>\n",
       "      <th>target</th>\n",
       "    </tr>\n",
       "  </thead>\n",
       "  <tbody>\n",
       "    <tr>\n",
       "      <th>0</th>\n",
       "      <td>8949</td>\n",
       "      <td>city_103</td>\n",
       "      <td>0.920</td>\n",
       "      <td>Male</td>\n",
       "      <td>Has relevent experience</td>\n",
       "      <td>no_enrollment</td>\n",
       "      <td>Graduate</td>\n",
       "      <td>STEM</td>\n",
       "      <td>&gt;20</td>\n",
       "      <td>NaN</td>\n",
       "      <td>NaN</td>\n",
       "      <td>1</td>\n",
       "      <td>36</td>\n",
       "      <td>1.0</td>\n",
       "    </tr>\n",
       "    <tr>\n",
       "      <th>1</th>\n",
       "      <td>29725</td>\n",
       "      <td>city_40</td>\n",
       "      <td>0.776</td>\n",
       "      <td>Male</td>\n",
       "      <td>No relevent experience</td>\n",
       "      <td>no_enrollment</td>\n",
       "      <td>Graduate</td>\n",
       "      <td>STEM</td>\n",
       "      <td>15</td>\n",
       "      <td>50-99</td>\n",
       "      <td>Pvt Ltd</td>\n",
       "      <td>&gt;4</td>\n",
       "      <td>47</td>\n",
       "      <td>0.0</td>\n",
       "    </tr>\n",
       "    <tr>\n",
       "      <th>2</th>\n",
       "      <td>11561</td>\n",
       "      <td>city_21</td>\n",
       "      <td>0.624</td>\n",
       "      <td>NaN</td>\n",
       "      <td>No relevent experience</td>\n",
       "      <td>Full time course</td>\n",
       "      <td>Graduate</td>\n",
       "      <td>STEM</td>\n",
       "      <td>5</td>\n",
       "      <td>NaN</td>\n",
       "      <td>NaN</td>\n",
       "      <td>never</td>\n",
       "      <td>83</td>\n",
       "      <td>0.0</td>\n",
       "    </tr>\n",
       "    <tr>\n",
       "      <th>3</th>\n",
       "      <td>33241</td>\n",
       "      <td>city_115</td>\n",
       "      <td>0.789</td>\n",
       "      <td>NaN</td>\n",
       "      <td>No relevent experience</td>\n",
       "      <td>NaN</td>\n",
       "      <td>Graduate</td>\n",
       "      <td>Business Degree</td>\n",
       "      <td>&lt;1</td>\n",
       "      <td>NaN</td>\n",
       "      <td>Pvt Ltd</td>\n",
       "      <td>never</td>\n",
       "      <td>52</td>\n",
       "      <td>1.0</td>\n",
       "    </tr>\n",
       "    <tr>\n",
       "      <th>4</th>\n",
       "      <td>666</td>\n",
       "      <td>city_162</td>\n",
       "      <td>0.767</td>\n",
       "      <td>Male</td>\n",
       "      <td>Has relevent experience</td>\n",
       "      <td>no_enrollment</td>\n",
       "      <td>Masters</td>\n",
       "      <td>STEM</td>\n",
       "      <td>&gt;20</td>\n",
       "      <td>50-99</td>\n",
       "      <td>Funded Startup</td>\n",
       "      <td>4</td>\n",
       "      <td>8</td>\n",
       "      <td>0.0</td>\n",
       "    </tr>\n",
       "  </tbody>\n",
       "</table>\n",
       "</div>"
      ],
      "text/plain": [
       "   enrollee_id      city  city_development_index gender  \\\n",
       "0         8949  city_103                   0.920   Male   \n",
       "1        29725   city_40                   0.776   Male   \n",
       "2        11561   city_21                   0.624    NaN   \n",
       "3        33241  city_115                   0.789    NaN   \n",
       "4          666  city_162                   0.767   Male   \n",
       "\n",
       "       relevent_experience enrolled_university education_level  \\\n",
       "0  Has relevent experience       no_enrollment        Graduate   \n",
       "1   No relevent experience       no_enrollment        Graduate   \n",
       "2   No relevent experience    Full time course        Graduate   \n",
       "3   No relevent experience                 NaN        Graduate   \n",
       "4  Has relevent experience       no_enrollment         Masters   \n",
       "\n",
       "  major_discipline experience company_size    company_type last_new_job  \\\n",
       "0             STEM        >20          NaN             NaN            1   \n",
       "1             STEM         15        50-99         Pvt Ltd           >4   \n",
       "2             STEM          5          NaN             NaN        never   \n",
       "3  Business Degree         <1          NaN         Pvt Ltd        never   \n",
       "4             STEM        >20        50-99  Funded Startup            4   \n",
       "\n",
       "   training_hours  target  \n",
       "0              36     1.0  \n",
       "1              47     0.0  \n",
       "2              83     0.0  \n",
       "3              52     1.0  \n",
       "4               8     0.0  "
      ]
     },
     "execution_count": 3,
     "metadata": {},
     "output_type": "execute_result"
    }
   ],
   "source": [
    "df_hr.head()"
   ]
  },
  {
   "cell_type": "markdown",
   "metadata": {},
   "source": [
    "### Разведочный анализ данных"
   ]
  },
  {
   "cell_type": "code",
   "execution_count": 4,
   "metadata": {},
   "outputs": [
    {
     "data": {
      "text/plain": [
       "19158"
      ]
     },
     "execution_count": 4,
     "metadata": {},
     "output_type": "execute_result"
    }
   ],
   "source": [
    "# Посмотрим сколько у нас уникальный кандидатов\n",
    "df_hr['enrollee_id'].nunique()"
   ]
  },
  {
   "cell_type": "code",
   "execution_count": 5,
   "metadata": {},
   "outputs": [
    {
     "data": {
      "text/plain": [
       "(19158, 14)"
      ]
     },
     "execution_count": 5,
     "metadata": {},
     "output_type": "execute_result"
    }
   ],
   "source": [
    "df_hr.shape"
   ]
  },
  {
   "cell_type": "code",
   "execution_count": 6,
   "metadata": {},
   "outputs": [
    {
     "data": {
      "text/plain": [
       "enrollee_id                  0\n",
       "city                         0\n",
       "city_development_index       0\n",
       "gender                    4508\n",
       "relevent_experience          0\n",
       "enrolled_university        386\n",
       "education_level            460\n",
       "major_discipline          2813\n",
       "experience                  65\n",
       "company_size              5938\n",
       "company_type              6140\n",
       "last_new_job               423\n",
       "training_hours               0\n",
       "target                       0\n",
       "dtype: int64"
      ]
     },
     "execution_count": 6,
     "metadata": {},
     "output_type": "execute_result"
    }
   ],
   "source": [
    "# Посмотрим на пустые строки\n",
    "df_hr.isnull().sum()"
   ]
  },
  {
   "cell_type": "code",
   "execution_count": 7,
   "metadata": {},
   "outputs": [
    {
     "data": {
      "text/plain": [
       "enrollee_id                 int64\n",
       "city                       object\n",
       "city_development_index    float64\n",
       "gender                     object\n",
       "relevent_experience        object\n",
       "enrolled_university        object\n",
       "education_level            object\n",
       "major_discipline           object\n",
       "experience                 object\n",
       "company_size               object\n",
       "company_type               object\n",
       "last_new_job               object\n",
       "training_hours              int64\n",
       "target                    float64\n",
       "dtype: object"
      ]
     },
     "execution_count": 7,
     "metadata": {},
     "output_type": "execute_result"
    }
   ],
   "source": [
    "df_hr.dtypes"
   ]
  },
  {
   "cell_type": "code",
   "execution_count": 8,
   "metadata": {},
   "outputs": [],
   "source": [
    "# Заполним пропуски с помощью моды\n",
    "for col in df_hr.columns:\n",
    "    df_hr[col].fillna(df_hr[col].mode()[0], inplace=True)"
   ]
  },
  {
   "cell_type": "code",
   "execution_count": 9,
   "metadata": {},
   "outputs": [
    {
     "data": {
      "text/plain": [
       "enrollee_id               0\n",
       "city                      0\n",
       "city_development_index    0\n",
       "gender                    0\n",
       "relevent_experience       0\n",
       "enrolled_university       0\n",
       "education_level           0\n",
       "major_discipline          0\n",
       "experience                0\n",
       "company_size              0\n",
       "company_type              0\n",
       "last_new_job              0\n",
       "training_hours            0\n",
       "target                    0\n",
       "dtype: int64"
      ]
     },
     "execution_count": 9,
     "metadata": {},
     "output_type": "execute_result"
    }
   ],
   "source": [
    "# Проверим, точно ли всё заполнилось\n",
    "df_hr.isnull().sum()"
   ]
  },
  {
   "cell_type": "code",
   "execution_count": 10,
   "metadata": {},
   "outputs": [
    {
     "data": {
      "text/plain": [
       "Index(['enrollee_id', 'city', 'city_development_index', 'gender',\n",
       "       'relevent_experience', 'enrolled_university', 'education_level',\n",
       "       'major_discipline', 'experience', 'company_size', 'company_type',\n",
       "       'last_new_job', 'training_hours', 'target'],\n",
       "      dtype='object')"
      ]
     },
     "execution_count": 10,
     "metadata": {},
     "output_type": "execute_result"
    }
   ],
   "source": [
    "# Рассмотрим наши столбцы\n",
    "df_hr.columns"
   ]
  },
  {
   "cell_type": "code",
   "execution_count": 11,
   "metadata": {},
   "outputs": [
    {
     "data": {
      "image/png": "[encoded data removed]",
      "text/plain": [
       "<Figure size 1440x1440 with 4 Axes>"
      ]
     },
     "metadata": {},
     "output_type": "display_data"
    }
   ],
   "source": [
    "# Рассмотрим графики\n",
    "df_hr.hist(figsize=(20,20))\n",
    "plt.show()"
   ]
  },
  {
   "cell_type": "markdown",
   "metadata": {},
   "source": [
    "### Предварительная оценка возможных фич"
   ]
  },
  {
   "cell_type": "markdown",
   "metadata": {},
   "source": [
    "> По гистограммам видно, что многие наши признаки не числовые. В таком случае необходимо всё привезти к числам. Для этого используем Label Encoding. В дальнейшем рассмотрим матрицу корреляций, чтобы выяснить какие признаки оказывают значительное влияние."
   ]
  },
  {
   "cell_type": "markdown",
   "metadata": {},
   "source": [
    "## 3. Подготовка пайплайна данных, инжиниринг фич"
   ]
  },
  {
   "cell_type": "markdown",
   "metadata": {},
   "source": [
    "### Label Encoding"
   ]
  },
  {
   "cell_type": "code",
   "execution_count": 12,
   "metadata": {},
   "outputs": [
    {
     "data": {
      "text/html": [
       "<div>\n",
       "<style scoped>\n",
       "    .dataframe tbody tr th:only-of-type {\n",
       "        vertical-align: middle;\n",
       "    }\n",
       "\n",
       "    .dataframe tbody tr th {\n",
       "        vertical-align: top;\n",
       "    }\n",
       "\n",
       "    .dataframe thead th {\n",
       "        text-align: right;\n",
       "    }\n",
       "</style>\n",
       "<table border=\"1\" class=\"dataframe\">\n",
       "  <thead>\n",
       "    <tr style=\"text-align: right;\">\n",
       "      <th></th>\n",
       "      <th>enrollee_id</th>\n",
       "      <th>city</th>\n",
       "      <th>city_development_index</th>\n",
       "      <th>gender</th>\n",
       "      <th>relevent_experience</th>\n",
       "      <th>enrolled_university</th>\n",
       "      <th>education_level</th>\n",
       "      <th>major_discipline</th>\n",
       "      <th>experience</th>\n",
       "      <th>company_size</th>\n",
       "      <th>...</th>\n",
       "      <th>target</th>\n",
       "      <th>city_id</th>\n",
       "      <th>gender_id</th>\n",
       "      <th>relevent_experience_id</th>\n",
       "      <th>enrolled_university_id</th>\n",
       "      <th>major_discipline_id</th>\n",
       "      <th>experience_id</th>\n",
       "      <th>company_size_id</th>\n",
       "      <th>company_type_id</th>\n",
       "      <th>last_new_job_id</th>\n",
       "    </tr>\n",
       "  </thead>\n",
       "  <tbody>\n",
       "    <tr>\n",
       "      <th>0</th>\n",
       "      <td>8949</td>\n",
       "      <td>city_103</td>\n",
       "      <td>0.920</td>\n",
       "      <td>Male</td>\n",
       "      <td>Has relevent experience</td>\n",
       "      <td>no_enrollment</td>\n",
       "      <td>Graduate</td>\n",
       "      <td>STEM</td>\n",
       "      <td>&gt;20</td>\n",
       "      <td>50-99</td>\n",
       "      <td>...</td>\n",
       "      <td>1.0</td>\n",
       "      <td>5</td>\n",
       "      <td>1</td>\n",
       "      <td>0</td>\n",
       "      <td>2</td>\n",
       "      <td>5</td>\n",
       "      <td>21</td>\n",
       "      <td>4</td>\n",
       "      <td>5</td>\n",
       "      <td>0</td>\n",
       "    </tr>\n",
       "    <tr>\n",
       "      <th>1</th>\n",
       "      <td>29725</td>\n",
       "      <td>city_40</td>\n",
       "      <td>0.776</td>\n",
       "      <td>Male</td>\n",
       "      <td>No relevent experience</td>\n",
       "      <td>no_enrollment</td>\n",
       "      <td>Graduate</td>\n",
       "      <td>STEM</td>\n",
       "      <td>15</td>\n",
       "      <td>50-99</td>\n",
       "      <td>...</td>\n",
       "      <td>0.0</td>\n",
       "      <td>77</td>\n",
       "      <td>1</td>\n",
       "      <td>1</td>\n",
       "      <td>2</td>\n",
       "      <td>5</td>\n",
       "      <td>6</td>\n",
       "      <td>4</td>\n",
       "      <td>5</td>\n",
       "      <td>4</td>\n",
       "    </tr>\n",
       "    <tr>\n",
       "      <th>2</th>\n",
       "      <td>11561</td>\n",
       "      <td>city_21</td>\n",
       "      <td>0.624</td>\n",
       "      <td>Male</td>\n",
       "      <td>No relevent experience</td>\n",
       "      <td>Full time course</td>\n",
       "      <td>Graduate</td>\n",
       "      <td>STEM</td>\n",
       "      <td>5</td>\n",
       "      <td>50-99</td>\n",
       "      <td>...</td>\n",
       "      <td>0.0</td>\n",
       "      <td>64</td>\n",
       "      <td>1</td>\n",
       "      <td>1</td>\n",
       "      <td>0</td>\n",
       "      <td>5</td>\n",
       "      <td>15</td>\n",
       "      <td>4</td>\n",
       "      <td>5</td>\n",
       "      <td>5</td>\n",
       "    </tr>\n",
       "    <tr>\n",
       "      <th>3</th>\n",
       "      <td>33241</td>\n",
       "      <td>city_115</td>\n",
       "      <td>0.789</td>\n",
       "      <td>Male</td>\n",
       "      <td>No relevent experience</td>\n",
       "      <td>no_enrollment</td>\n",
       "      <td>Graduate</td>\n",
       "      <td>Business Degree</td>\n",
       "      <td>&lt;1</td>\n",
       "      <td>50-99</td>\n",
       "      <td>...</td>\n",
       "      <td>1.0</td>\n",
       "      <td>14</td>\n",
       "      <td>1</td>\n",
       "      <td>1</td>\n",
       "      <td>2</td>\n",
       "      <td>1</td>\n",
       "      <td>20</td>\n",
       "      <td>4</td>\n",
       "      <td>5</td>\n",
       "      <td>5</td>\n",
       "    </tr>\n",
       "    <tr>\n",
       "      <th>4</th>\n",
       "      <td>666</td>\n",
       "      <td>city_162</td>\n",
       "      <td>0.767</td>\n",
       "      <td>Male</td>\n",
       "      <td>Has relevent experience</td>\n",
       "      <td>no_enrollment</td>\n",
       "      <td>Masters</td>\n",
       "      <td>STEM</td>\n",
       "      <td>&gt;20</td>\n",
       "      <td>50-99</td>\n",
       "      <td>...</td>\n",
       "      <td>0.0</td>\n",
       "      <td>50</td>\n",
       "      <td>1</td>\n",
       "      <td>0</td>\n",
       "      <td>2</td>\n",
       "      <td>5</td>\n",
       "      <td>21</td>\n",
       "      <td>4</td>\n",
       "      <td>1</td>\n",
       "      <td>3</td>\n",
       "    </tr>\n",
       "  </tbody>\n",
       "</table>\n",
       "<p>5 rows × 23 columns</p>\n",
       "</div>"
      ],
      "text/plain": [
       "   enrollee_id      city  city_development_index gender  \\\n",
       "0         8949  city_103                   0.920   Male   \n",
       "1        29725   city_40                   0.776   Male   \n",
       "2        11561   city_21                   0.624   Male   \n",
       "3        33241  city_115                   0.789   Male   \n",
       "4          666  city_162                   0.767   Male   \n",
       "\n",
       "       relevent_experience enrolled_university education_level  \\\n",
       "0  Has relevent experience       no_enrollment        Graduate   \n",
       "1   No relevent experience       no_enrollment        Graduate   \n",
       "2   No relevent experience    Full time course        Graduate   \n",
       "3   No relevent experience       no_enrollment        Graduate   \n",
       "4  Has relevent experience       no_enrollment         Masters   \n",
       "\n",
       "  major_discipline experience company_size  ... target city_id  gender_id  \\\n",
       "0             STEM        >20        50-99  ...    1.0       5          1   \n",
       "1             STEM         15        50-99  ...    0.0      77          1   \n",
       "2             STEM          5        50-99  ...    0.0      64          1   \n",
       "3  Business Degree         <1        50-99  ...    1.0      14          1   \n",
       "4             STEM        >20        50-99  ...    0.0      50          1   \n",
       "\n",
       "   relevent_experience_id  enrolled_university_id  major_discipline_id  \\\n",
       "0                       0                       2                    5   \n",
       "1                       1                       2                    5   \n",
       "2                       1                       0                    5   \n",
       "3                       1                       2                    1   \n",
       "4                       0                       2                    5   \n",
       "\n",
       "   experience_id  company_size_id  company_type_id  last_new_job_id  \n",
       "0             21                4                5                0  \n",
       "1              6                4                5                4  \n",
       "2             15                4                5                5  \n",
       "3             20                4                5                5  \n",
       "4             21                4                1                3  \n",
       "\n",
       "[5 rows x 23 columns]"
      ]
     },
     "execution_count": 12,
     "metadata": {},
     "output_type": "execute_result"
    }
   ],
   "source": [
    "# Для удобства назовём labelencoder\n",
    "labelencoder = LabelEncoder()\n",
    "\n",
    "# Присвоение числовых значений и сохранение в другом столбце\n",
    "df_hr['city_id'] = labelencoder.fit_transform(df_hr['city'])\n",
    "df_hr['gender_id'] = labelencoder.fit_transform(df_hr['gender'])\n",
    "df_hr['relevent_experience_id'] = labelencoder.fit_transform(df_hr['relevent_experience'])\n",
    "df_hr['enrolled_university_id'] = labelencoder.fit_transform(df_hr['enrolled_university'])\n",
    "df_hr['major_discipline_id'] = labelencoder.fit_transform(df_hr['major_discipline'])\n",
    "df_hr['experience_id'] = labelencoder.fit_transform(df_hr['experience'])\n",
    "df_hr['company_size_id'] = labelencoder.fit_transform(df_hr['company_size'])\n",
    "df_hr['company_type_id'] = labelencoder.fit_transform(df_hr['company_type'])\n",
    "df_hr['last_new_job_id'] = labelencoder.fit_transform(df_hr['last_new_job'])\n",
    "\n",
    "df_hr.head()"
   ]
  },
  {
   "cell_type": "markdown",
   "metadata": {},
   "source": [
    "### Корреляция"
   ]
  },
  {
   "cell_type": "code",
   "execution_count": 13,
   "metadata": {},
   "outputs": [
    {
     "data": {
      "text/plain": [
       "<matplotlib.axes._subplots.AxesSubplot at 0x1bb6c89e710>"
      ]
     },
     "execution_count": 13,
     "metadata": {},
     "output_type": "execute_result"
    },
    {
     "data": {
      "image/png": "[encoded data removed]",
      "text/plain": [
       "<Figure size 432x288 with 2 Axes>"
      ]
     },
     "metadata": {},
     "output_type": "display_data"
    }
   ],
   "source": [
    "corr = df_hr.corr()\n",
    "sns.heatmap(corr, \n",
    "            xticklabels = corr.columns.values,\n",
    "            yticklabels = corr.columns.values)"
   ]
  },
  {
   "cell_type": "code",
   "execution_count": 14,
   "metadata": {},
   "outputs": [
    {
     "data": {
      "text/html": [
       "<div>\n",
       "<style scoped>\n",
       "    .dataframe tbody tr th:only-of-type {\n",
       "        vertical-align: middle;\n",
       "    }\n",
       "\n",
       "    .dataframe tbody tr th {\n",
       "        vertical-align: top;\n",
       "    }\n",
       "\n",
       "    .dataframe thead th {\n",
       "        text-align: right;\n",
       "    }\n",
       "</style>\n",
       "<table border=\"1\" class=\"dataframe\">\n",
       "  <thead>\n",
       "    <tr style=\"text-align: right;\">\n",
       "      <th></th>\n",
       "      <th>enrollee_id</th>\n",
       "      <th>city_development_index</th>\n",
       "      <th>training_hours</th>\n",
       "      <th>target</th>\n",
       "      <th>city_id</th>\n",
       "      <th>gender_id</th>\n",
       "      <th>relevent_experience_id</th>\n",
       "      <th>enrolled_university_id</th>\n",
       "      <th>major_discipline_id</th>\n",
       "      <th>experience_id</th>\n",
       "      <th>company_size_id</th>\n",
       "      <th>company_type_id</th>\n",
       "      <th>last_new_job_id</th>\n",
       "    </tr>\n",
       "  </thead>\n",
       "  <tbody>\n",
       "    <tr>\n",
       "      <th>enrollee_id</th>\n",
       "      <td>1.000000</td>\n",
       "      <td>-0.040455</td>\n",
       "      <td>0.000998</td>\n",
       "      <td>0.049475</td>\n",
       "      <td>-0.011566</td>\n",
       "      <td>-0.010440</td>\n",
       "      <td>0.043359</td>\n",
       "      <td>-0.032212</td>\n",
       "      <td>-0.020201</td>\n",
       "      <td>-0.000207</td>\n",
       "      <td>0.003171</td>\n",
       "      <td>0.011807</td>\n",
       "      <td>-0.027211</td>\n",
       "    </tr>\n",
       "    <tr>\n",
       "      <th>city_development_index</th>\n",
       "      <td>-0.040455</td>\n",
       "      <td>1.000000</td>\n",
       "      <td>0.001920</td>\n",
       "      <td>-0.341665</td>\n",
       "      <td>-0.326104</td>\n",
       "      <td>-0.019808</td>\n",
       "      <td>-0.059808</td>\n",
       "      <td>0.165555</td>\n",
       "      <td>-0.114620</td>\n",
       "      <td>0.035405</td>\n",
       "      <td>-0.013660</td>\n",
       "      <td>-0.009773</td>\n",
       "      <td>0.022741</td>\n",
       "    </tr>\n",
       "    <tr>\n",
       "      <th>training_hours</th>\n",
       "      <td>0.000998</td>\n",
       "      <td>0.001920</td>\n",
       "      <td>1.000000</td>\n",
       "      <td>-0.021577</td>\n",
       "      <td>0.009537</td>\n",
       "      <td>-0.002013</td>\n",
       "      <td>-0.011566</td>\n",
       "      <td>0.003943</td>\n",
       "      <td>0.005165</td>\n",
       "      <td>-0.005260</td>\n",
       "      <td>0.002437</td>\n",
       "      <td>-0.013776</td>\n",
       "      <td>-0.008574</td>\n",
       "    </tr>\n",
       "    <tr>\n",
       "      <th>target</th>\n",
       "      <td>0.049475</td>\n",
       "      <td>-0.341665</td>\n",
       "      <td>-0.021577</td>\n",
       "      <td>1.000000</td>\n",
       "      <td>0.056233</td>\n",
       "      <td>-0.006733</td>\n",
       "      <td>0.128430</td>\n",
       "      <td>-0.149539</td>\n",
       "      <td>0.013223</td>\n",
       "      <td>-0.006464</td>\n",
       "      <td>0.047362</td>\n",
       "      <td>0.056685</td>\n",
       "      <td>-0.024990</td>\n",
       "    </tr>\n",
       "    <tr>\n",
       "      <th>city_id</th>\n",
       "      <td>-0.011566</td>\n",
       "      <td>-0.326104</td>\n",
       "      <td>0.009537</td>\n",
       "      <td>0.056233</td>\n",
       "      <td>1.000000</td>\n",
       "      <td>0.024032</td>\n",
       "      <td>0.006154</td>\n",
       "      <td>-0.074003</td>\n",
       "      <td>0.107804</td>\n",
       "      <td>-0.042534</td>\n",
       "      <td>0.017431</td>\n",
       "      <td>0.009027</td>\n",
       "      <td>-0.011676</td>\n",
       "    </tr>\n",
       "    <tr>\n",
       "      <th>gender_id</th>\n",
       "      <td>-0.010440</td>\n",
       "      <td>-0.019808</td>\n",
       "      <td>-0.002013</td>\n",
       "      <td>-0.006733</td>\n",
       "      <td>0.024032</td>\n",
       "      <td>1.000000</td>\n",
       "      <td>0.004455</td>\n",
       "      <td>-0.022702</td>\n",
       "      <td>0.066154</td>\n",
       "      <td>0.005106</td>\n",
       "      <td>0.014254</td>\n",
       "      <td>0.035429</td>\n",
       "      <td>0.029059</td>\n",
       "    </tr>\n",
       "    <tr>\n",
       "      <th>relevent_experience_id</th>\n",
       "      <td>0.043359</td>\n",
       "      <td>-0.059808</td>\n",
       "      <td>-0.011566</td>\n",
       "      <td>0.128430</td>\n",
       "      <td>0.006154</td>\n",
       "      <td>0.004455</td>\n",
       "      <td>1.000000</td>\n",
       "      <td>-0.372919</td>\n",
       "      <td>-0.009968</td>\n",
       "      <td>-0.008290</td>\n",
       "      <td>0.110379</td>\n",
       "      <td>0.087295</td>\n",
       "      <td>0.170767</td>\n",
       "    </tr>\n",
       "    <tr>\n",
       "      <th>enrolled_university_id</th>\n",
       "      <td>-0.032212</td>\n",
       "      <td>0.165555</td>\n",
       "      <td>0.003943</td>\n",
       "      <td>-0.149539</td>\n",
       "      <td>-0.074003</td>\n",
       "      <td>-0.022702</td>\n",
       "      <td>-0.372919</td>\n",
       "      <td>1.000000</td>\n",
       "      <td>-0.096442</td>\n",
       "      <td>0.022663</td>\n",
       "      <td>-0.071022</td>\n",
       "      <td>-0.028769</td>\n",
       "      <td>0.006387</td>\n",
       "    </tr>\n",
       "    <tr>\n",
       "      <th>major_discipline_id</th>\n",
       "      <td>-0.020201</td>\n",
       "      <td>-0.114620</td>\n",
       "      <td>0.005165</td>\n",
       "      <td>0.013223</td>\n",
       "      <td>0.107804</td>\n",
       "      <td>0.066154</td>\n",
       "      <td>-0.009968</td>\n",
       "      <td>-0.096442</td>\n",
       "      <td>1.000000</td>\n",
       "      <td>-0.001555</td>\n",
       "      <td>-0.003851</td>\n",
       "      <td>0.020189</td>\n",
       "      <td>0.014777</td>\n",
       "    </tr>\n",
       "    <tr>\n",
       "      <th>experience_id</th>\n",
       "      <td>-0.000207</td>\n",
       "      <td>0.035405</td>\n",
       "      <td>-0.005260</td>\n",
       "      <td>-0.006464</td>\n",
       "      <td>-0.042534</td>\n",
       "      <td>0.005106</td>\n",
       "      <td>-0.008290</td>\n",
       "      <td>0.022663</td>\n",
       "      <td>-0.001555</td>\n",
       "      <td>1.000000</td>\n",
       "      <td>0.008087</td>\n",
       "      <td>0.009667</td>\n",
       "      <td>0.060750</td>\n",
       "    </tr>\n",
       "    <tr>\n",
       "      <th>company_size_id</th>\n",
       "      <td>0.003171</td>\n",
       "      <td>-0.013660</td>\n",
       "      <td>0.002437</td>\n",
       "      <td>0.047362</td>\n",
       "      <td>0.017431</td>\n",
       "      <td>0.014254</td>\n",
       "      <td>0.110379</td>\n",
       "      <td>-0.071022</td>\n",
       "      <td>-0.003851</td>\n",
       "      <td>0.008087</td>\n",
       "      <td>1.000000</td>\n",
       "      <td>-0.003280</td>\n",
       "      <td>0.055148</td>\n",
       "    </tr>\n",
       "    <tr>\n",
       "      <th>company_type_id</th>\n",
       "      <td>0.011807</td>\n",
       "      <td>-0.009773</td>\n",
       "      <td>-0.013776</td>\n",
       "      <td>0.056685</td>\n",
       "      <td>0.009027</td>\n",
       "      <td>0.035429</td>\n",
       "      <td>0.087295</td>\n",
       "      <td>-0.028769</td>\n",
       "      <td>0.020189</td>\n",
       "      <td>0.009667</td>\n",
       "      <td>-0.003280</td>\n",
       "      <td>1.000000</td>\n",
       "      <td>0.135871</td>\n",
       "    </tr>\n",
       "    <tr>\n",
       "      <th>last_new_job_id</th>\n",
       "      <td>-0.027211</td>\n",
       "      <td>0.022741</td>\n",
       "      <td>-0.008574</td>\n",
       "      <td>-0.024990</td>\n",
       "      <td>-0.011676</td>\n",
       "      <td>0.029059</td>\n",
       "      <td>0.170767</td>\n",
       "      <td>0.006387</td>\n",
       "      <td>0.014777</td>\n",
       "      <td>0.060750</td>\n",
       "      <td>0.055148</td>\n",
       "      <td>0.135871</td>\n",
       "      <td>1.000000</td>\n",
       "    </tr>\n",
       "  </tbody>\n",
       "</table>\n",
       "</div>"
      ],
      "text/plain": [
       "                        enrollee_id  city_development_index  training_hours  \\\n",
       "enrollee_id                1.000000               -0.040455        0.000998   \n",
       "city_development_index    -0.040455                1.000000        0.001920   \n",
       "training_hours             0.000998                0.001920        1.000000   \n",
       "target                     0.049475               -0.341665       -0.021577   \n",
       "city_id                   -0.011566               -0.326104        0.009537   \n",
       "gender_id                 -0.010440               -0.019808       -0.002013   \n",
       "relevent_experience_id     0.043359               -0.059808       -0.011566   \n",
       "enrolled_university_id    -0.032212                0.165555        0.003943   \n",
       "major_discipline_id       -0.020201               -0.114620        0.005165   \n",
       "experience_id             -0.000207                0.035405       -0.005260   \n",
       "company_size_id            0.003171               -0.013660        0.002437   \n",
       "company_type_id            0.011807               -0.009773       -0.013776   \n",
       "last_new_job_id           -0.027211                0.022741       -0.008574   \n",
       "\n",
       "                          target   city_id  gender_id  relevent_experience_id  \\\n",
       "enrollee_id             0.049475 -0.011566  -0.010440                0.043359   \n",
       "city_development_index -0.341665 -0.326104  -0.019808               -0.059808   \n",
       "training_hours         -0.021577  0.009537  -0.002013               -0.011566   \n",
       "target                  1.000000  0.056233  -0.006733                0.128430   \n",
       "city_id                 0.056233  1.000000   0.024032                0.006154   \n",
       "gender_id              -0.006733  0.024032   1.000000                0.004455   \n",
       "relevent_experience_id  0.128430  0.006154   0.004455                1.000000   \n",
       "enrolled_university_id -0.149539 -0.074003  -0.022702               -0.372919   \n",
       "major_discipline_id     0.013223  0.107804   0.066154               -0.009968   \n",
       "experience_id          -0.006464 -0.042534   0.005106               -0.008290   \n",
       "company_size_id         0.047362  0.017431   0.014254                0.110379   \n",
       "company_type_id         0.056685  0.009027   0.035429                0.087295   \n",
       "last_new_job_id        -0.024990 -0.011676   0.029059                0.170767   \n",
       "\n",
       "                        enrolled_university_id  major_discipline_id  \\\n",
       "enrollee_id                          -0.032212            -0.020201   \n",
       "city_development_index                0.165555            -0.114620   \n",
       "training_hours                        0.003943             0.005165   \n",
       "target                               -0.149539             0.013223   \n",
       "city_id                              -0.074003             0.107804   \n",
       "gender_id                            -0.022702             0.066154   \n",
       "relevent_experience_id               -0.372919            -0.009968   \n",
       "enrolled_university_id                1.000000            -0.096442   \n",
       "major_discipline_id                  -0.096442             1.000000   \n",
       "experience_id                         0.022663            -0.001555   \n",
       "company_size_id                      -0.071022            -0.003851   \n",
       "company_type_id                      -0.028769             0.020189   \n",
       "last_new_job_id                       0.006387             0.014777   \n",
       "\n",
       "                        experience_id  company_size_id  company_type_id  \\\n",
       "enrollee_id                 -0.000207         0.003171         0.011807   \n",
       "city_development_index       0.035405        -0.013660        -0.009773   \n",
       "training_hours              -0.005260         0.002437        -0.013776   \n",
       "target                      -0.006464         0.047362         0.056685   \n",
       "city_id                     -0.042534         0.017431         0.009027   \n",
       "gender_id                    0.005106         0.014254         0.035429   \n",
       "relevent_experience_id      -0.008290         0.110379         0.087295   \n",
       "enrolled_university_id       0.022663        -0.071022        -0.028769   \n",
       "major_discipline_id         -0.001555        -0.003851         0.020189   \n",
       "experience_id                1.000000         0.008087         0.009667   \n",
       "company_size_id              0.008087         1.000000        -0.003280   \n",
       "company_type_id              0.009667        -0.003280         1.000000   \n",
       "last_new_job_id              0.060750         0.055148         0.135871   \n",
       "\n",
       "                        last_new_job_id  \n",
       "enrollee_id                   -0.027211  \n",
       "city_development_index         0.022741  \n",
       "training_hours                -0.008574  \n",
       "target                        -0.024990  \n",
       "city_id                       -0.011676  \n",
       "gender_id                      0.029059  \n",
       "relevent_experience_id         0.170767  \n",
       "enrolled_university_id         0.006387  \n",
       "major_discipline_id            0.014777  \n",
       "experience_id                  0.060750  \n",
       "company_size_id                0.055148  \n",
       "company_type_id                0.135871  \n",
       "last_new_job_id                1.000000  "
      ]
     },
     "execution_count": 14,
     "metadata": {},
     "output_type": "execute_result"
    }
   ],
   "source": [
    "df_hr.corr()"
   ]
  },
  {
   "cell_type": "code",
   "execution_count": 15,
   "metadata": {},
   "outputs": [
    {
     "data": {
      "image/png": "[encoded data removed]",
      "text/plain": [
       "<Figure size 1440x1440 with 16 Axes>"
      ]
     },
     "metadata": {},
     "output_type": "display_data"
    }
   ],
   "source": [
    "# Рассмотрим новые гистограммы\n",
    "df_hr.hist(figsize=(20,20))\n",
    "plt.show()"
   ]
  },
  {
   "cell_type": "markdown",
   "metadata": {},
   "source": [
    ">**Вывод**\n",
    "<br>На матрице корреляции видно какие признаки оказывают влияние, а именно: city_development_index, training_hours,  gender_id, enrolled_university_id, experience_id. Данные признаки мы будет использовать при обучении.<br>"
   ]
  },
  {
   "cell_type": "markdown",
   "metadata": {},
   "source": [
    "### Скалирование"
   ]
  },
  {
   "cell_type": "code",
   "execution_count": 16,
   "metadata": {},
   "outputs": [],
   "source": [
    "def scaling(df):\n",
    "    scaler = StandardScaler()\n",
    "    data_scaled = scaler.fit_transform(df)\n",
    "    df_scaled = pd.DataFrame(data_scaled)\n",
    "    return df_scaled"
   ]
  },
  {
   "cell_type": "code",
   "execution_count": 17,
   "metadata": {},
   "outputs": [],
   "source": [
    "df = df_hr[['city_development_index', 'training_hours',  'gender_id', 'enrolled_university_id', 'experience_id', 'target']]\n",
    "\n",
    "df = df.dropna()\n",
    "\n",
    "X = df.drop('target', axis=1)\n",
    "y = df['target']\n",
    "\n",
    "X_scaled = scaling(X)\n",
    "\n",
    "X_train, X_test, Y_train, Y_test = train_test_split(X_scaled, y, test_size = 0.2, random_state=42)\n"
   ]
  },
  {
   "cell_type": "markdown",
   "metadata": {},
   "source": [
    "## 4. Подготовка и обучение модели, сравнение разных реализаций"
   ]
  },
  {
   "cell_type": "markdown",
   "metadata": {},
   "source": [
    "### Сравнение моделей"
   ]
  },
  {
   "cell_type": "code",
   "execution_count": 18,
   "metadata": {},
   "outputs": [],
   "source": [
    "models = []\n",
    "models.append(('Logistic Regression', LogisticRegression(solver='liblinear', random_state=7,\n",
    "                                                         class_weight='balanced')))\n",
    "models.append(('Random Forest', RandomForestClassifier(\n",
    "    n_estimators=100, random_state=7)))\n",
    "models.append(('SVM', SVC(gamma='auto', random_state=7)))\n",
    "models.append(('KNN', KNeighborsClassifier()))\n",
    "models.append(('Decision Tree Classifier',\n",
    "               DecisionTreeClassifier(random_state=7)))\n",
    "models.append(('Gaussian NB', GaussianNB()))"
   ]
  },
  {
   "cell_type": "code",
   "execution_count": 19,
   "metadata": {},
   "outputs": [
    {
     "data": {
      "text/html": [
       "<div>\n",
       "<style scoped>\n",
       "    .dataframe tbody tr th:only-of-type {\n",
       "        vertical-align: middle;\n",
       "    }\n",
       "\n",
       "    .dataframe tbody tr th {\n",
       "        vertical-align: top;\n",
       "    }\n",
       "\n",
       "    .dataframe thead th {\n",
       "        text-align: right;\n",
       "    }\n",
       "</style>\n",
       "<table border=\"1\" class=\"dataframe\">\n",
       "  <thead>\n",
       "    <tr style=\"text-align: right;\">\n",
       "      <th></th>\n",
       "      <th>Algorithm</th>\n",
       "      <th>ROC AUC Mean</th>\n",
       "      <th>ROC AUC STD</th>\n",
       "      <th>Accuracy Mean</th>\n",
       "      <th>Accuracy STD</th>\n",
       "    </tr>\n",
       "  </thead>\n",
       "  <tbody>\n",
       "    <tr>\n",
       "      <th>5</th>\n",
       "      <td>Gaussian NB</td>\n",
       "      <td>71.31</td>\n",
       "      <td>2.06</td>\n",
       "      <td>77.40</td>\n",
       "      <td>1.64</td>\n",
       "    </tr>\n",
       "    <tr>\n",
       "      <th>0</th>\n",
       "      <td>Logistic Regression</td>\n",
       "      <td>71.04</td>\n",
       "      <td>1.84</td>\n",
       "      <td>70.73</td>\n",
       "      <td>1.32</td>\n",
       "    </tr>\n",
       "    <tr>\n",
       "      <th>2</th>\n",
       "      <td>SVM</td>\n",
       "      <td>68.84</td>\n",
       "      <td>1.84</td>\n",
       "      <td>77.72</td>\n",
       "      <td>1.45</td>\n",
       "    </tr>\n",
       "    <tr>\n",
       "      <th>1</th>\n",
       "      <td>Random Forest</td>\n",
       "      <td>66.87</td>\n",
       "      <td>2.04</td>\n",
       "      <td>73.29</td>\n",
       "      <td>1.23</td>\n",
       "    </tr>\n",
       "    <tr>\n",
       "      <th>3</th>\n",
       "      <td>KNN</td>\n",
       "      <td>65.85</td>\n",
       "      <td>1.95</td>\n",
       "      <td>74.80</td>\n",
       "      <td>1.20</td>\n",
       "    </tr>\n",
       "    <tr>\n",
       "      <th>4</th>\n",
       "      <td>Decision Tree Classifier</td>\n",
       "      <td>58.81</td>\n",
       "      <td>1.43</td>\n",
       "      <td>69.03</td>\n",
       "      <td>1.54</td>\n",
       "    </tr>\n",
       "  </tbody>\n",
       "</table>\n",
       "</div>"
      ],
      "text/plain": [
       "                  Algorithm  ROC AUC Mean  ROC AUC STD  Accuracy Mean  \\\n",
       "5               Gaussian NB         71.31         2.06          77.40   \n",
       "0       Logistic Regression         71.04         1.84          70.73   \n",
       "2                       SVM         68.84         1.84          77.72   \n",
       "1             Random Forest         66.87         2.04          73.29   \n",
       "3                       KNN         65.85         1.95          74.80   \n",
       "4  Decision Tree Classifier         58.81         1.43          69.03   \n",
       "\n",
       "   Accuracy STD  \n",
       "5          1.64  \n",
       "0          1.32  \n",
       "2          1.45  \n",
       "1          1.23  \n",
       "3          1.20  \n",
       "4          1.54  "
      ]
     },
     "execution_count": 19,
     "metadata": {},
     "output_type": "execute_result"
    }
   ],
   "source": [
    "acc_results = []\n",
    "auc_results = []\n",
    "names = []\n",
    "# set table to table to populate with performance results\n",
    "col = ['Algorithm', 'ROC AUC Mean', 'ROC AUC STD', \n",
    "       'Accuracy Mean', 'Accuracy STD']\n",
    "df_results = pd.DataFrame(columns=col)\n",
    "i = 0\n",
    "# evaluate each model using cross-validation\n",
    "for name, model in models:\n",
    "    kfold = model_selection.KFold(\n",
    "        n_splits=10, random_state=7)  # 10-fold cross-validation\n",
    "\n",
    "    cv_acc_results = model_selection.cross_val_score(  # accuracy scoring\n",
    "        model, X_train, Y_train, cv=kfold, scoring='accuracy')\n",
    "\n",
    "    cv_auc_results = model_selection.cross_val_score(  # roc_auc scoring\n",
    "        model, X_train, Y_train, cv=kfold, scoring='roc_auc')\n",
    "\n",
    "    acc_results.append(cv_acc_results)\n",
    "    auc_results.append(cv_auc_results)\n",
    "    names.append(name)\n",
    "    df_results.loc[i] = [name,\n",
    "                         round(cv_auc_results.mean()*100, 2),\n",
    "                         round(cv_auc_results.std()*100, 2),\n",
    "                         round(cv_acc_results.mean()*100, 2),\n",
    "                         round(cv_acc_results.std()*100, 2)\n",
    "                         ]\n",
    "    i += 1\n",
    "df_results.sort_values(by=['ROC AUC Mean'], ascending=False)"
   ]
  },
  {
   "cell_type": "markdown",
   "metadata": {},
   "source": [
    ">**Вывод**\n",
    " <br>Мы видим, что логистическая регрессия показала себя хорошо. В таком случае для предсказания мы будем ипользовать логистическую регрессию.<br>"
   ]
  },
  {
   "cell_type": "markdown",
   "metadata": {},
   "source": [
    "### Логистическая регрессия"
   ]
  },
  {
   "cell_type": "code",
   "execution_count": 20,
   "metadata": {},
   "outputs": [
    {
     "name": "stdout",
     "output_type": "stream",
     "text": [
      "AUC score (STD): 0.71 (0.02)\n"
     ]
    }
   ],
   "source": [
    "kfold = model_selection.KFold(n_splits=10, random_state=7)\n",
    "modelCV = LogisticRegression(solver='liblinear',\n",
    "                             class_weight=\"balanced\", \n",
    "                             random_state=7)\n",
    "scoring = 'roc_auc'\n",
    "results = model_selection.cross_val_score(\n",
    "    modelCV, X_train, Y_train, cv=kfold, scoring=scoring)\n",
    "print(\"AUC score (STD): %.2f (%.2f)\" % (results.mean(), results.std()))"
   ]
  },
  {
   "cell_type": "code",
   "execution_count": 21,
   "metadata": {},
   "outputs": [
    {
     "name": "stdout",
     "output_type": "stream",
     "text": [
      "====================\n",
      "best params: LogisticRegression(C=1.6409999999999996, class_weight='balanced', dual=False,\n",
      "          fit_intercept=True, intercept_scaling=1, max_iter=100,\n",
      "          multi_class='ovr', n_jobs=1, penalty='l2', random_state=7,\n",
      "          solver='liblinear', tol=0.0001, verbose=0, warm_start=False)\n",
      "best params: {'C': 1.6409999999999996}\n",
      "best score: 0.7099880328408141\n",
      "====================\n"
     ]
    }
   ],
   "source": [
    "param_grid = {'C': np.arange(1e-03, 2, 0.01)} # hyper-parameter list to fine-tune\n",
    "log_gs = GridSearchCV(LogisticRegression(solver='liblinear', # setting GridSearchCV\n",
    "                                         class_weight=\"balanced\", \n",
    "                                         random_state=7),\n",
    "                      iid=True,\n",
    "                      return_train_score=True,\n",
    "                      param_grid=param_grid,\n",
    "                      scoring='roc_auc',\n",
    "                      cv=10)\n",
    "\n",
    "log_grid = log_gs.fit(X_train, Y_train)\n",
    "log_opt = log_grid.best_estimator_\n",
    "results = log_gs.cv_results_\n",
    "\n",
    "print('='*20)\n",
    "print(\"best params: \" + str(log_gs.best_estimator_))\n",
    "print(\"best params: \" + str(log_gs.best_params_))\n",
    "print('best score:', log_gs.best_score_)\n",
    "print('='*20)"
   ]
  },
  {
   "cell_type": "code",
   "execution_count": 25,
   "metadata": {},
   "outputs": [
    {
     "data": {
      "text/plain": [
       "0.7085073068893528"
      ]
     },
     "execution_count": 25,
     "metadata": {},
     "output_type": "execute_result"
    }
   ],
   "source": [
    "# Посмотрим, как предсказывает наша модель\n",
    "from sklearn.metrics import accuracy_score\n",
    "\n",
    "Y_test_predict = log_gs.predict(X_test)\n",
    "accuracy_score(Y_test_predict, Y_test)"
   ]
  },
  {
   "cell_type": "code",
   "execution_count": 29,
   "metadata": {},
   "outputs": [
    {
     "data": {
      "text/plain": [
       "array([[-0.70079404, -0.06552786, -0.03907161, -0.25762814,  0.03006317]])"
      ]
     },
     "execution_count": 29,
     "metadata": {},
     "output_type": "execute_result"
    }
   ],
   "source": [
    "# Чтобы подтвердить выводы после оценки корреляции посмотрим на коэффициенты признаков\n",
    "log_gs.best_estimator_.coef_\n",
    "# Как видим, city_development_index и enrolled_university_id оказывают значительное влияние на target"
   ]
  },
  {
   "cell_type": "markdown",
   "metadata": {},
   "source": [
    "## Выводы"
   ]
  },
  {
   "cell_type": "markdown",
   "metadata": {},
   "source": [
    "Мы выяснили, что на смену работы кандидата влияют следующие факторы:\n",
    "- city_development_index - сильная обратная зависимость от target\n",
    "- training_hours - достаточно сильная обратная зависимость от target\n",
    "- gender_id - достаточно сильная обратная зависимость от target\n",
    "- enrolled_university_id - сильная обратная зависимость от target\n",
    "- experience_id - достаточно сильная обратная зависимость от target\n",
    "\n",
    "На что компании нужно обратить внимание:\n",
    "- Вуз. То есть кандидаты с определённого вуза с большей вероятностью пойдут в компанию.\n",
    "- Ситуация с индексом развития города (в масштабе) говорит о том, что чем он ниже, тем больше вероятность смены работы. Компании стоит концентрироваться на более развитые города.\n",
    "- Чем ниже опыт, тем больше вероятность смены работы. Достаточно интересное наблюдение. Как правило, такая ситуация характерна для студентов, которые только ищут себя и не готовы оставаться в одной компании на долгий период. Необходимо в дальнейшем изучить данный вопрос.\n",
    "- Часы пройденных крусов. То есть чем меньше количество часов, тем выше вероятность, что человек сменит работу.\n",
    "<br>Для полноты исследования необходимо в дальнейшем изучить причины маленького количество часов. Исходя из этого компания сможет обратить на факторы, которые в будущем смогут также использоваться для прогноза смены работы кандидата и разработки рекомендаций по удержанию.<br>\n",
    "\n",
    "В результате работы была построена логистическая регрессионная модель, которая предсказывает со скором: 0.7099880328408141"
   ]
  },
  {
   "cell_type": "code",
   "execution_count": null,
   "metadata": {},
   "outputs": [],
   "source": []
  }
 ],
 "metadata": {
  "hide_input": false,
  "kernelspec": {
   "display_name": "Python 3",
   "language": "python",
   "name": "python3"
  },
  "language_info": {
   "codemirror_mode": {
    "name": "ipython",
    "version": 3
   },
   "file_extension": ".py",
   "mimetype": "text/x-python",
   "name": "python",
   "nbconvert_exporter": "python",
   "pygments_lexer": "ipython3",
   "version": "3.6.5"
  },
  "toc": {
   "base_numbering": 1,
   "nav_menu": {},
   "number_sections": true,
   "sideBar": true,
   "skip_h1_title": true,
   "title_cell": "Table of Contents",
   "title_sidebar": "Contents",
   "toc_cell": true,
   "toc_position": {
    "height": "calc(100% - 180px)",
    "left": "10px",
    "top": "150px",
    "width": "296px"
   },
   "toc_section_display": true,
   "toc_window_display": true
  },
  "varInspector": {
   "cols": {
    "lenName": 16,
    "lenType": 16,
    "lenVar": 40
   },
   "kernels_config": {
    "python": {
     "delete_cmd_postfix": "",
     "delete_cmd_prefix": "del ",
     "library": "var_list.py",
     "varRefreshCmd": "print(var_dic_list())"
    },
    "r": {
     "delete_cmd_postfix": ") ",
     "delete_cmd_prefix": "rm(",
     "library": "var_list.r",
     "varRefreshCmd": "cat(var_dic_list()) "
    }
   },
   "types_to_exclude": [
    "module",
    "function",
    "builtin_function_or_method",
    "instance",
    "_Feature"
   ],
   "window_display": false
  }
 },
 "nbformat": 4,
 "nbformat_minor": 4
}
